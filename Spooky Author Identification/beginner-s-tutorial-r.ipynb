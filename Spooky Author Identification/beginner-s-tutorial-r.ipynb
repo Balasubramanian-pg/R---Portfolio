{
 "cells": [
  {
   "cell_type": "markdown",
   "metadata": {
    "_cell_guid": "fc585e51-6145-4331-8688-f0ff64afa5af",
    "_uuid": "06b6ea2725332146b97e1fd86c5ec9922b796d7a"
   },
   "source": [
    "In this tutorial we're going to get started with some basic natural language processing (NLP) tasks. We're going to:\n",
    "\n",
    "* Read in some helpful NLP libraries & our dataset\n",
    "* Find out how often each author uses each word\n",
    "* Use that to guess which author wrote a sentence\n",
    "\n",
    "Ready? Let's get started! :D"
   ]
  },
  {
   "cell_type": "markdown",
   "metadata": {
    "_cell_guid": "5670cb6f-0f68-4657-aa4b-857da9ee9020",
    "_uuid": "4806601a0243cab4072235ca82f78202d3d42923"
   },
   "source": [
    "## Read in some helpful NLP libraries & our dataset\n",
    "\n",
    "For this tutorial, I'm going to be using the tidytext library, which is part of the tidyverse. The tidyverse is a collection of packages built around the central principle that data should be stored in table where each column is a single variable and each row is an observation of that variable. \n",
    "\n",
    "The tidytext package applies that philosophy to text data, and has a lot of nice helper functions that we're going to use. There's also a very helpful book, which you can read for free [here](http://tidytextmining.com/)."
   ]
  },
  {
   "cell_type": "code",
   "execution_count": 1,
   "metadata": {
    "_cell_guid": "e2da3833-a778-472e-8e77-ddc5c786e706",
    "_uuid": "4cd1608ae2e80c6830287e6337fbce1f875440a5"
   },
   "outputs": [
    {
     "name": "stderr",
     "output_type": "stream",
     "text": [
      "Loading tidyverse: ggplot2\n",
      "Loading tidyverse: tibble\n",
      "Loading tidyverse: tidyr\n",
      "Loading tidyverse: readr\n",
      "Loading tidyverse: purrr\n",
      "Loading tidyverse: dplyr\n",
      "Conflicts with tidy packages ---------------------------------------------------\n",
      "filter(): dplyr, stats\n",
      "lag():    dplyr, stats\n",
      "\n",
      "Attaching package: ‘glue’\n",
      "\n",
      "The following object is masked from ‘package:dplyr’:\n",
      "\n",
      "    collapse\n",
      "\n"
     ]
    },
    {
     "data": {
      "text/html": [
       "<table>\n",
       "<thead><tr><th scope=col>id</th><th scope=col>text</th><th scope=col>author</th></tr></thead>\n",
       "<tbody>\n",
       "\t<tr><td>id26305                                                                                                                                                                                                                                                                                                                                                                                                                                                                             </td><td>This process, however, afforded me no means of ascertaining the dimensions of my dungeon; as I might make its circuit, and return to the point whence I set out, without being aware of the fact; so perfectly uniform seemed the wall.                                                                                                                                                                                                                                             </td><td>EAP                                                                                                                                                                                                                                                                                                                                                                                                                                                                                 </td></tr>\n",
       "\t<tr><td>id17569                                                                                                                                                                                                                                                                                                                                                                                                                                                                             </td><td>It never once occurred to me that the fumbling might be a mere mistake.                                                                                                                                                                                                                                                                                                                                                                                                             </td><td>HPL                                                                                                                                                                                                                                                                                                                                                                                                                                                                                 </td></tr>\n",
       "\t<tr><td>id11008                                                                                                                                                                                                                                                                                                                                                                                                                                                                             </td><td>In his left hand was a gold snuff box, from which, as he capered down the hill, cutting all manner of fantastic steps, he took snuff incessantly with an air of the greatest possible self satisfaction.                                                                                                                                                                                                                                                                            </td><td>EAP                                                                                                                                                                                                                                                                                                                                                                                                                                                                                 </td></tr>\n",
       "\t<tr><td>id27763                                                                                                                                                                                                                                                                                                                                                                                                                                                                             </td><td>How lovely is spring As we looked from Windsor Terrace on the sixteen fertile counties spread beneath, speckled by happy cottages and wealthier towns, all looked as in former years, heart cheering and fair.                                                                                                                                                                                                                                                                      </td><td>MWS                                                                                                                                                                                                                                                                                                                                                                                                                                                                                 </td></tr>\n",
       "\t<tr><td>id12958                                                                                                                                                                                                                                                                                                                                                                                                                                                                             </td><td>Finding nothing else, not even gold, the Superintendent abandoned his attempts; but a perplexed look occasionally steals over his countenance as he sits thinking at his desk.                                                                                                                                                                                                                                                                                                      </td><td>HPL                                                                                                                                                                                                                                                                                                                                                                                                                                                                                 </td></tr>\n",
       "\t<tr><td>id22965                                                                                                                                                                                                                                                                                                                                                                                                                                                                             </td><td>A youth passed in solitude, my best years spent under your gentle and feminine fosterage, has so refined the groundwork of my character that I cannot overcome an intense distaste to the usual brutality exercised on board ship: I have never believed it to be necessary, and when I heard of a mariner equally noted for his kindliness of heart and the respect and obedience paid to him by his crew, I felt myself peculiarly fortunate in being able to secure his services.</td><td>MWS                                                                                                                                                                                                                                                                                                                                                                                                                                                                                 </td></tr>\n",
       "</tbody>\n",
       "</table>\n"
      ],
      "text/latex": [
       "\\begin{tabular}{r|lll}\n",
       " id & text & author\\\\\n",
       "\\hline\n",
       "\t id26305                                                                                                                                                                                                                                                                                                                                                                                                                                                                              & This process, however, afforded me no means of ascertaining the dimensions of my dungeon; as I might make its circuit, and return to the point whence I set out, without being aware of the fact; so perfectly uniform seemed the wall.                                                                                                                                                                                                                                              & EAP                                                                                                                                                                                                                                                                                                                                                                                                                                                                                 \\\\\n",
       "\t id17569                                                                                                                                                                                                                                                                                                                                                                                                                                                                              & It never once occurred to me that the fumbling might be a mere mistake.                                                                                                                                                                                                                                                                                                                                                                                                              & HPL                                                                                                                                                                                                                                                                                                                                                                                                                                                                                 \\\\\n",
       "\t id11008                                                                                                                                                                                                                                                                                                                                                                                                                                                                              & In his left hand was a gold snuff box, from which, as he capered down the hill, cutting all manner of fantastic steps, he took snuff incessantly with an air of the greatest possible self satisfaction.                                                                                                                                                                                                                                                                             & EAP                                                                                                                                                                                                                                                                                                                                                                                                                                                                                 \\\\\n",
       "\t id27763                                                                                                                                                                                                                                                                                                                                                                                                                                                                              & How lovely is spring As we looked from Windsor Terrace on the sixteen fertile counties spread beneath, speckled by happy cottages and wealthier towns, all looked as in former years, heart cheering and fair.                                                                                                                                                                                                                                                                       & MWS                                                                                                                                                                                                                                                                                                                                                                                                                                                                                 \\\\\n",
       "\t id12958                                                                                                                                                                                                                                                                                                                                                                                                                                                                              & Finding nothing else, not even gold, the Superintendent abandoned his attempts; but a perplexed look occasionally steals over his countenance as he sits thinking at his desk.                                                                                                                                                                                                                                                                                                       & HPL                                                                                                                                                                                                                                                                                                                                                                                                                                                                                 \\\\\n",
       "\t id22965                                                                                                                                                                                                                                                                                                                                                                                                                                                                              & A youth passed in solitude, my best years spent under your gentle and feminine fosterage, has so refined the groundwork of my character that I cannot overcome an intense distaste to the usual brutality exercised on board ship: I have never believed it to be necessary, and when I heard of a mariner equally noted for his kindliness of heart and the respect and obedience paid to him by his crew, I felt myself peculiarly fortunate in being able to secure his services. & MWS                                                                                                                                                                                                                                                                                                                                                                                                                                                                                 \\\\\n",
       "\\end{tabular}\n"
      ],
      "text/markdown": [
       "\n",
       "id | text | author | \n",
       "|---|---|---|---|---|---|\n",
       "| id26305                                                                                                                                                                                                                                                                                                                                                                                                                                                                              | This process, however, afforded me no means of ascertaining the dimensions of my dungeon; as I might make its circuit, and return to the point whence I set out, without being aware of the fact; so perfectly uniform seemed the wall.                                                                                                                                                                                                                                              | EAP                                                                                                                                                                                                                                                                                                                                                                                                                                                                                  | \n",
       "| id17569                                                                                                                                                                                                                                                                                                                                                                                                                                                                              | It never once occurred to me that the fumbling might be a mere mistake.                                                                                                                                                                                                                                                                                                                                                                                                              | HPL                                                                                                                                                                                                                                                                                                                                                                                                                                                                                  | \n",
       "| id11008                                                                                                                                                                                                                                                                                                                                                                                                                                                                              | In his left hand was a gold snuff box, from which, as he capered down the hill, cutting all manner of fantastic steps, he took snuff incessantly with an air of the greatest possible self satisfaction.                                                                                                                                                                                                                                                                             | EAP                                                                                                                                                                                                                                                                                                                                                                                                                                                                                  | \n",
       "| id27763                                                                                                                                                                                                                                                                                                                                                                                                                                                                              | How lovely is spring As we looked from Windsor Terrace on the sixteen fertile counties spread beneath, speckled by happy cottages and wealthier towns, all looked as in former years, heart cheering and fair.                                                                                                                                                                                                                                                                       | MWS                                                                                                                                                                                                                                                                                                                                                                                                                                                                                  | \n",
       "| id12958                                                                                                                                                                                                                                                                                                                                                                                                                                                                              | Finding nothing else, not even gold, the Superintendent abandoned his attempts; but a perplexed look occasionally steals over his countenance as he sits thinking at his desk.                                                                                                                                                                                                                                                                                                       | HPL                                                                                                                                                                                                                                                                                                                                                                                                                                                                                  | \n",
       "| id22965                                                                                                                                                                                                                                                                                                                                                                                                                                                                              | A youth passed in solitude, my best years spent under your gentle and feminine fosterage, has so refined the groundwork of my character that I cannot overcome an intense distaste to the usual brutality exercised on board ship: I have never believed it to be necessary, and when I heard of a mariner equally noted for his kindliness of heart and the respect and obedience paid to him by his crew, I felt myself peculiarly fortunate in being able to secure his services. | MWS                                                                                                                                                                                                                                                                                                                                                                                                                                                                                  | \n",
       "\n",
       "\n"
      ],
      "text/plain": [
       "  id     \n",
       "1 id26305\n",
       "2 id17569\n",
       "3 id11008\n",
       "4 id27763\n",
       "5 id12958\n",
       "6 id22965\n",
       "  text                                                                                                                                                                                                                                                                                                                                                                                                                                                                                \n",
       "1 This process, however, afforded me no means of ascertaining the dimensions of my dungeon; as I might make its circuit, and return to the point whence I set out, without being aware of the fact; so perfectly uniform seemed the wall.                                                                                                                                                                                                                                             \n",
       "2 It never once occurred to me that the fumbling might be a mere mistake.                                                                                                                                                                                                                                                                                                                                                                                                             \n",
       "3 In his left hand was a gold snuff box, from which, as he capered down the hill, cutting all manner of fantastic steps, he took snuff incessantly with an air of the greatest possible self satisfaction.                                                                                                                                                                                                                                                                            \n",
       "4 How lovely is spring As we looked from Windsor Terrace on the sixteen fertile counties spread beneath, speckled by happy cottages and wealthier towns, all looked as in former years, heart cheering and fair.                                                                                                                                                                                                                                                                      \n",
       "5 Finding nothing else, not even gold, the Superintendent abandoned his attempts; but a perplexed look occasionally steals over his countenance as he sits thinking at his desk.                                                                                                                                                                                                                                                                                                      \n",
       "6 A youth passed in solitude, my best years spent under your gentle and feminine fosterage, has so refined the groundwork of my character that I cannot overcome an intense distaste to the usual brutality exercised on board ship: I have never believed it to be necessary, and when I heard of a mariner equally noted for his kindliness of heart and the respect and obedience paid to him by his crew, I felt myself peculiarly fortunate in being able to secure his services.\n",
       "  author\n",
       "1 EAP   \n",
       "2 HPL   \n",
       "3 EAP   \n",
       "4 MWS   \n",
       "5 HPL   \n",
       "6 MWS   "
      ]
     },
     "metadata": {},
     "output_type": "display_data"
    }
   ],
   "source": [
    "# libraries we'll need\n",
    "library(tidytext)\n",
    "library(tidyverse)\n",
    "library(glue)\n",
    "\n",
    "### Read in the data\n",
    "\n",
    "# read in our data\n",
    "texts <- read.csv(\"../input/train.csv\")\n",
    "\n",
    "# look at the first few rows\n",
    "head(texts)"
   ]
  },
  {
   "cell_type": "markdown",
   "metadata": {
    "_cell_guid": "b777c9e5-eef5-4d56-8542-c47a3b8efcb0",
    "_uuid": "960dfe8012e7cc99133ff961afb59a3452ef6a7b"
   },
   "source": [
    "## Find out how often each author uses each word\n",
    "\n",
    "A lot of NLP applications rely on counting how often certain words are used. (The fancy term for this is \"word frequency\".) Let's look at the word frequency for each of the authors in our dataset. The tidytext library has lots of nice built-in functions and data structures for this that we can make use of."
   ]
  },
  {
   "cell_type": "code",
   "execution_count": 2,
   "metadata": {
    "_cell_guid": "a916851c-d69b-4b49-9cd4-e093f155e2a8",
    "_uuid": "b26d02f14da1d914c4d9fb312685bca05d6e8475"
   },
   "outputs": [
    {
     "name": "stderr",
     "output_type": "stream",
     "text": [
      "Adding missing grouping variables: `author`\n"
     ]
    }
   ],
   "source": [
    "### Split data\n",
    "\n",
    "# split the data by author\n",
    "byAuthor <- group_by(texts, author)\n",
    "\n",
    "### Calcuate how often each author uses each word\n",
    "\n",
    "freqByAuthor <-  texts %>%\n",
    "    group_by(author) %>% # group by author\n",
    "    select(text) %>% # grab only the Sentence column\n",
    "    mutate(text = as.character(text)) %>% # convert them to characters\n",
    "    unnest_tokens(words, text) %>% # tokenize\n",
    "    count(words) %>% # frequency by token (by author)\n",
    "    bind_tf_idf(words, author, n) # normalized frequency"
   ]
  },
  {
   "cell_type": "markdown",
   "metadata": {
    "_cell_guid": "acf6786c-cc59-46e8-b9c6-904e9388cc28",
    "_uuid": "c0c8629e0bb725781916468c8c250d52fd8c4a62"
   },
   "source": [
    "Now we can look at how often each writer uses specific words. Since this is a Halloween competition, how about \"blood\", \"scream\" and \"fear\"? 👻😨🧛‍♀️"
   ]
  },
  {
   "cell_type": "code",
   "execution_count": 3,
   "metadata": {
    "_cell_guid": "6a22b55a-a61b-4010-b33c-f6df56462fe4",
    "_uuid": "07127c45d1d9c796f4ddab20cafdb7ef381629f6"
   },
   "outputs": [
    {
     "name": "stdout",
     "output_type": "stream",
     "text": [
      "# A tibble: 3 x 6\n",
      "# Groups:   author [3]\n",
      "  author words     n           tf   idf tf_idf\n",
      "  <fctr> <chr> <int>        <dbl> <dbl>  <dbl>\n",
      "1    EAP blood    34 0.0001692763     0      0\n",
      "2    HPL blood    40 0.0002559787     0      0\n",
      "3    MWS blood    43 0.0002595051     0      0\n",
      "# A tibble: 3 x 6\n",
      "# Groups:   author [3]\n",
      "  author  words     n           tf   idf tf_idf\n",
      "  <fctr>  <chr> <int>        <dbl> <dbl>  <dbl>\n",
      "1    EAP scream     4 1.991486e-05     0      0\n",
      "2    HPL scream    16 1.023915e-04     0      0\n",
      "3    MWS scream     5 3.017502e-05     0      0\n",
      "# A tibble: 3 x 6\n",
      "# Groups:   author [3]\n",
      "  author words     n           tf   idf tf_idf\n",
      "  <fctr> <chr> <int>        <dbl> <dbl>  <dbl>\n",
      "1    EAP  fear    24 0.0001194892     0      0\n",
      "2    HPL  fear    99 0.0006335473     0      0\n",
      "3    MWS  fear   117 0.0007060954     0      0\n"
     ]
    }
   ],
   "source": [
    "### Look at how often each writer uses specific words\n",
    "\n",
    "# see how often each author says \"blood\"\n",
    "print(freqByAuthor[freqByAuthor$words == \"blood\",])\n",
    "\n",
    "# see how often each author says \"scream\"\n",
    "print(freqByAuthor[freqByAuthor$words == \"scream\",])\n",
    "\n",
    "# see how often each author says \"fear\"\n",
    "print(freqByAuthor[freqByAuthor$words == \"fear\",])"
   ]
  },
  {
   "cell_type": "markdown",
   "metadata": {
    "_cell_guid": "e1832264-6680-42be-a09e-38b5cd47792e",
    "_uuid": "6a433b8f4a8409867969e9ebb4a222670fa23bdc"
   },
   "source": [
    "## Use word frequency to guess which author wrote a sentence\n",
    "\n",
    "The general idea is is that different people tend to use different words more or less often. (I had a beloved college professor that was especially fond of \"gestalt\".) If you're not sure who said something but it has a lot of words one person uses a lot in it, then you might guess that they were the one who wrote it.\n",
    "\n",
    "Let's use this general principle to guess who might have been more likely to write the sentence \"It was a dark and stormy night.\""
   ]
  },
  {
   "cell_type": "code",
   "execution_count": 4,
   "metadata": {
    "_cell_guid": "a0bbcfde-2534-43de-a5cb-a314c1152038",
    "_uuid": "2f86909d639a961a47ee1ae0e8a3ef319d00ba27"
   },
   "outputs": [
    {
     "name": "stderr",
     "output_type": "stream",
     "text": [
      "Joining, by = \"words\"\n",
      "Joining, by = \"words\"\n",
      "Joining, by = \"words\"\n"
     ]
    },
    {
     "data": {
      "text/html": [
       "'HPL'"
      ],
      "text/latex": [
       "'HPL'"
      ],
      "text/markdown": [
       "'HPL'"
      ],
      "text/plain": [
       "[1] \"HPL\""
      ]
     },
     "metadata": {},
     "output_type": "display_data"
    }
   ],
   "source": [
    "### Use this to make guesses about who wrote a given sentence\n",
    "\n",
    "# One way to guess authorship is to use the joint probabilty that each \n",
    "# author used each word in a given sentence.\n",
    "\n",
    "# first, let's start with a test sentence\n",
    "testSentence <- as_data_frame(list(text = \"It was a dark and stormy night.\"))\n",
    "\n",
    "# and then tokenize it\n",
    "preProcessedTestSentence <- unnest_tokens(testSentence, words, text)\n",
    "\n",
    "# get the frequency for each word by author\n",
    "testProbailities <- freqByAuthor[freqByAuthor$words %in% preProcessedTestSentence$words,]\n",
    "\n",
    "# if there are x fewer terms from the term freq. table than are in the test string, \n",
    "# pad with x times a low frequency count & then take the joint probability\n",
    "getJointProb <- function(author, testSentence, tf_idf){\n",
    "  # get the term frequencytestSentence\n",
    "  freq <- inner_join(freqByAuthor, testSentence)   # get the term frequency\n",
    "  # select just the target author\n",
    "  byAuthor <- freq[freq$author == author,]\n",
    "  \n",
    "  # number of returned terms \n",
    "  returnedTerms <- dim(byAuthor)[1]\n",
    "  \n",
    "  # add a very small amount for every term in the test sentence we didn't see\n",
    "  # in our training corpus\n",
    "  if(length(testSentence$words) < dim(byAuthor)[1]){\n",
    "    # making the smoothing term very low reflects the idea that we think it's\n",
    "    # unlikely that the author would use this term, since we haven't seen them \n",
    "    # use it before\n",
    "    smoothingTerm <- (length(testSentence$words) - returnedTerms) * 0.000001\n",
    "  } else {\n",
    "    # since we're taking the product, making the smoothing term 1 won't\n",
    "    # change our results\n",
    "    smoothingTerm <- 1\n",
    "  }\n",
    "  \n",
    "  # return probaility\n",
    "  return(prod(c(byAuthor$tf, smoothingTerm)))\n",
    "}\n",
    "\n",
    "# empty variable to put our predictions in\n",
    "authorEst <- NULL\n",
    "\n",
    "# Joint uni-gram probability for each author\n",
    "for(i in levels(texts$author)){\n",
    "  authorEst <- c(authorEst, getJointProb(i, preProcessedTestSentence, freqByAuthor))\n",
    "}\n",
    "\n",
    "# and the winner is...\n",
    "levels(texts$author)[which.max(authorEst)]\n"
   ]
  },
  {
   "cell_type": "markdown",
   "metadata": {
    "_cell_guid": "a564b0ae-320e-4625-a43d-5069f72be8cc",
    "_uuid": "87d9504ccf9fb27d20b91edf5832f056dab80423"
   },
   "source": [
    "So based on what we've seen in our training data, it looks like of our three authors, H.P. Lovecraft was the most likely to write the sentence \"It was a dark and stormy night\"."
   ]
  }
 ],
 "metadata": {
  "kernelspec": {
   "display_name": "R",
   "language": "R",
   "name": "ir"
  },
  "language_info": {
   "codemirror_mode": "r",
   "file_extension": ".r",
   "mimetype": "text/x-r-source",
   "name": "R",
   "pygments_lexer": "r",
   "version": "3.4.1"
  }
 },
 "nbformat": 4,
 "nbformat_minor": 1
}
